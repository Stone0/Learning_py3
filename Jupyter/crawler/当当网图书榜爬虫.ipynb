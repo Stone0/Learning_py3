{
 "cells": [
  {
   "cell_type": "code",
   "execution_count": 5,
   "metadata": {},
   "outputs": [],
   "source": [
    "import requests\n",
    "from bs4 import BeautifulSoup"
   ]
  },
  {
   "cell_type": "code",
   "execution_count": 6,
   "metadata": {},
   "outputs": [
    {
     "name": "stdout",
     "output_type": "stream",
     "text": [
      "\n",
      "\n",
      "<!DOCTYPE html PUBLIC \"-//W3C//DTD XHTML 1.0 Transitional//EN\" \"http://www.w3.org/TR/xhtml1/DTD/xhtml1-transitional.dtd\">\n",
      "<html xmlns=\"http://www.w3.org/1999/xhtml\">\n",
      "<head>\n",
      "<meta http-equiv=\"Content-Type\" content=\"text/html; charset=gb2312\" />\n",
      "<meta name=\"keywords\" content=\"计算机/网络畅销榜,近30日畅销书排行榜,畅销图书排行榜\" />\n",
      "<meta name=\"description\" content=\"当当网计算机/网络畅销榜，近30日畅销书排行榜，为您提供真实、权威、可信的计算机/网络排行榜数据，查看畅销小说排行榜，就上DangDang.COM。\" />\n",
      "\n",
      "<title>计算机/网络畅销榜-近30日畅销书排行榜-当当畅销图书排行榜</title>\n",
      "    <script type=\"te\n"
     ]
    }
   ],
   "source": [
    "response = requests.get('http://bang.dangdang.com/books/bestsellers/01.54.00.00.00.00-recent30-0-0-1-1')\n",
    "\n",
    "if response.status_code != 200:\n",
    "    print('----- ERROR -----')\n",
    "\n",
    "rpText = response.text\n",
    "print(rpText[:500])\n",
    "\n",
    "\n"
   ]
  },
  {
   "cell_type": "code",
   "execution_count": 14,
   "metadata": {},
   "outputs": [],
   "source": [
    "soup = BeautifulSoup(rpText,'lxml')\n",
    "# print(soup.get_text()[:500])"
   ]
  },
  {
   "cell_type": "code",
   "execution_count": 13,
   "metadata": {},
   "outputs": [
    {
     "name": "stdout",
     "output_type": "stream",
     "text": [
      "计算机/网络畅销榜-近30日畅销书排行榜-当当畅销图书排行榜\n"
     ]
    }
   ],
   "source": [
    "print(soup.title.string)"
   ]
  },
  {
   "cell_type": "code",
   "execution_count": 17,
   "metadata": {},
   "outputs": [
    {
     "name": "stdout",
     "output_type": "stream",
     "text": [
      "[<a dd_name=\"我的云书房\" href=\"http://e.dangdang.com/ebook/listUserEbooks.do\" name=\"我的云书房\" target=\"_blank\">我的云书房</a>, <a class=\"menu_btn\" dd_name=\"我的当当\" href=\"http://myhome.dangdang.com/\" id=\"a_myddchannel\" name=\"我的当当\" onmouseout=\"hideotherchannel('a_myddchannel','__ddnav_mydd');\" onmouseover=\"showgaoji('a_myddchannel','__ddnav_mydd')\" target=\"_blank\">我的当当</a>, <a dd_name=\"新_我的订单\" href=\"http://myhome.dangdang.com/myOrder\" name=\"mydd_7\" target=\"_blank\">我的订单</a>, <a dd_name=\"新_购物车\" href=\"http://shopping.dangdang.com/shoppingcart/shopping_cart.aspx\" name=\"mydd_8\" rel=\"nofollow\" target=\"_blank\">购物车</a>, <a dd_name=\"银铃铛抵现\" href=\"http://myhome.dangdang.com/mypoint?ref=my-0-L\" name=\"mydd_4\" rel=\"nofollow\" target=\"_blank\">银铃铛抵现</a>]\n"
     ]
    }
   ],
   "source": [
    "print(soup.select(\"body a\")[:5])"
   ]
  },
  {
   "cell_type": "code",
   "execution_count": null,
   "metadata": {},
   "outputs": [],
   "source": []
  },
  {
   "cell_type": "code",
   "execution_count": null,
   "metadata": {},
   "outputs": [],
   "source": []
  },
  {
   "cell_type": "code",
   "execution_count": null,
   "metadata": {},
   "outputs": [],
   "source": []
  }
 ],
 "metadata": {
  "kernelspec": {
   "display_name": "Python 3",
   "language": "python",
   "name": "python3"
  },
  "language_info": {
   "codemirror_mode": {
    "name": "ipython",
    "version": 3
   },
   "file_extension": ".py",
   "mimetype": "text/x-python",
   "name": "python",
   "nbconvert_exporter": "python",
   "pygments_lexer": "ipython3",
   "version": "3.6.5"
  }
 },
 "nbformat": 4,
 "nbformat_minor": 2
}
