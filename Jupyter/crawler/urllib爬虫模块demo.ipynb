{
 "cells": [
  {
   "cell_type": "code",
   "execution_count": 24,
   "metadata": {},
   "outputs": [],
   "source": [
    "from urllib import request,parse"
   ]
  },
  {
   "cell_type": "code",
   "execution_count": 21,
   "metadata": {},
   "outputs": [
    {
     "name": "stdout",
     "output_type": "stream",
     "text": [
      "<html><head>        <meta http-equiv=\"content-type\" content=\"text/html;charset=utf-8\">    <meta http-equiv=\"X-UA-Compatible\" content=\"IE=Edge\">\t<meta content=\"always\" name=\"referrer\">    <meta name=\"theme-color\" content=\"#2932e1\">    <link rel=\"shortcut icon\" href=\"/favicon.ico\" type=\"image/x-icon\" />    <link rel=\"search\" type=\"application/opensearchdescription+xml\" href=\"/content-search.xml\" title=\"百度搜索\" />    <link rel=\"ico\n"
     ]
    }
   ],
   "source": [
    "response = urllib.request.urlopen('http://www.baidu.com')\n",
    "print(response.read().decode('utf-8').replace('\\n','')[233:700])"
   ]
  },
  {
   "cell_type": "code",
   "execution_count": 37,
   "metadata": {},
   "outputs": [
    {
     "name": "stdout",
     "output_type": "stream",
     "text": [
      "<!doctype html><html><head><meta http-equiv=\"Content-Type\" content=\"text/html; charset=utf-8\"/><title>IT之家 - 数码，科技，生活 - 软媒旗下</title><meta charset=\"utf-8\"/><meta http-equiv=\"X-UA-Compatible\" content=\"IE=9; IE=8; IE=7; IE=EDGE\"/><meta name=\"description\" content=\"IT之家，青岛软媒旗下，IT科技门户网站。快速精选IT新闻，实时报道科技周边，关注苹果iOS、谷歌Android、微软Windows Phone，紧盯iPhone/iPad、安卓智能设备、WP手机等数码潮流。技术资讯、攻略教程、资源下载 - IT人的生活，尽在IT之家，爱IT，爱这里。\" /><meta name=\"keywords\" content=\"IT新闻,互联网,Internet,数码,科技,科普,通信,智能手机,IT之家,ithome,软媒\" /><meta ht\n"
     ]
    }
   ],
   "source": [
    "# https的网站需要ssl模块\n",
    "import ssl\n",
    "context = ssl._create_unverified_context()\n",
    "\n",
    "url = 'https://www.ithome.com/'\n",
    "# 伪造请求头\n",
    "headers = {\n",
    "    'User-Agent':' Mozilla/5.0 (Windows NT 6.1; Win64; x64) AppleWebKit/537.36 (KHTML, like Gecko) Chrome/71.0.3578.98 Safari/537.36',\n",
    "}\n",
    "\n",
    "# 伪造请求参数\n",
    "dict = {\n",
    "    'return_url':'https://www.ithome.com/',\n",
    "    'user_name':'xiaoshuaib@gmail.com',\n",
    "    'password':'123456789',\n",
    "    '_post_type':'ajax',\n",
    "}\n",
    "\n",
    "# 将请求的参数转化为 byte\n",
    "data = bytes(parse.urlencode(dict),'utf-8')\n",
    "\n",
    "# 封装 request\n",
    "# req = request.Request(url,data=data,headers=headers,method='POST')\n",
    "req = request.Request(url,data=None,headers=headers,method='GET')\n",
    "\n",
    "# 进行请求\n",
    "response = request.urlopen(req,context=context)\n",
    "print(response.read().decode('utf-8')[:500])"
   ]
  },
  {
   "cell_type": "code",
   "execution_count": 38,
   "metadata": {},
   "outputs": [],
   "source": [
    "# Requests 是在 urllib 的基础上搞出来的, 比urllib用更少的代码模拟浏览器操作\n",
    "import requests"
   ]
  },
  {
   "cell_type": "code",
   "execution_count": 50,
   "metadata": {},
   "outputs": [
    {
     "name": "stdout",
     "output_type": "stream",
     "text": [
      "<!DOCTYPE html>\n",
      "<!--STATUS OK--><html> <head><meta http-equiv=content-type content=text/html;charset=utf-8><meta http-equiv=X-UA-Compatible content=IE=Edge><meta content=always name=referrer><link rel=stylesheet type=text/css href=https://ss1.bdstatic.com/5eN1bjq8AAUYm2zgoY3K/r/www/cache/bdorz/baidu.min.css><title>ç¾åº¦ä¸ä¸ï¼ä½ å°±ç¥é</title></head> <body link=#0000cc> <div id=wrapper> <div id=head> <div class=head_wrapper> <div class=s_form> <div class=s_form_wrapper> <div id=lg> <img h\n"
     ]
    }
   ],
   "source": [
    "r1 = requests.get('https://www.baidu.com/')\n",
    "print(r1.text[:500])"
   ]
  },
  {
   "cell_type": "code",
   "execution_count": 51,
   "metadata": {},
   "outputs": [
    {
     "name": "stdout",
     "output_type": "stream",
     "text": [
      "ISO-8859-1\n"
     ]
    }
   ],
   "source": [
    "print(r1.encoding)"
   ]
  },
  {
   "cell_type": "code",
   "execution_count": 53,
   "metadata": {},
   "outputs": [
    {
     "name": "stdout",
     "output_type": "stream",
     "text": [
      "b'<!DOCTYPE html>\\r\\n<!--STATUS OK--><html> <head><meta http-equiv=content-type content=text/html;charset=utf-8><meta http-equiv=X-UA-Compatible content=IE=Edge><meta content=always name=referrer><link rel=stylesheet type=text/css href=https://ss1.bdstatic.com/5eN1bjq8AAUYm2zgoY3K/r/www/cache/bdorz/baidu.min.css><title>\\xe7\\x99\\xbe\\xe5\\xba\\xa6\\xe4\\xb8\\x80\\xe4\\xb8\\x8b\\xef\\xbc\\x8c\\xe4\\xbd\\xa0\\xe5\\xb0\\xb1\\xe7\\x9f\\xa5\\xe9\\x81\\x93</title></head> <body link=#0000cc> <div id=wrapper> <div id=head> <div class=head_wrapper> <div class=s_form> <div class=s_form_wrapper> <div id=lg> <img h'\n"
     ]
    }
   ],
   "source": [
    "# 响应内容\n",
    "print(r1.content[:500])"
   ]
  },
  {
   "cell_type": "code",
   "execution_count": null,
   "metadata": {},
   "outputs": [],
   "source": []
  },
  {
   "cell_type": "code",
   "execution_count": null,
   "metadata": {},
   "outputs": [],
   "source": []
  }
 ],
 "metadata": {
  "kernelspec": {
   "display_name": "Python 3",
   "language": "python",
   "name": "python3"
  },
  "language_info": {
   "codemirror_mode": {
    "name": "ipython",
    "version": 3
   },
   "file_extension": ".py",
   "mimetype": "text/x-python",
   "name": "python",
   "nbconvert_exporter": "python",
   "pygments_lexer": "ipython3",
   "version": "3.6.5"
  }
 },
 "nbformat": 4,
 "nbformat_minor": 2
}
