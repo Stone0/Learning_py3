{
 "cells": [
  {
   "cell_type": "code",
   "execution_count": 1,
   "metadata": {},
   "outputs": [],
   "source": [
    "from bs4 import BeautifulSoup\n",
    "import requests"
   ]
  },
  {
   "cell_type": "code",
   "execution_count": 2,
   "metadata": {},
   "outputs": [],
   "source": [
    "def request_douban(url):\n",
    "    try:\n",
    "        response = requests.get(url)\n",
    "        if response.status_code == 200:\n",
    "            return response.text\n",
    "    except requests.RequestException:\n",
    "        return None"
   ]
  },
  {
   "cell_type": "code",
   "execution_count": 3,
   "metadata": {},
   "outputs": [],
   "source": [
    "page = 0\n",
    "url = 'https://movie.douban.com/top250?start='+ str(page*25)+'&filter='\n",
    "html = request_douban(url)\n",
    "soup = BeautifulSoup(html, 'lxml')"
   ]
  },
  {
   "cell_type": "code",
   "execution_count": 4,
   "metadata": {},
   "outputs": [
    {
     "name": "stdout",
     "output_type": "stream",
     "text": [
      "爬取电影：1 | 肖申克的救赎 | 9.6 | 希望让人自由。\n",
      "爬取电影：2 | 霸王别姬 | 9.6 | 风华绝代。\n",
      "爬取电影：3 | 这个杀手不太冷 | 9.4 | 怪蜀黍和小萝莉不得不说的故事。\n",
      "爬取电影：4 | 阿甘正传 | 9.4 | 一部美国近现代史。\n",
      "爬取电影：5 | 美丽人生 | 9.5 | 最美的谎言。\n",
      "爬取电影：6 | 泰坦尼克号 | 9.3 | 失去的才是永恒的。 \n",
      "爬取电影：7 | 千与千寻 | 9.3 | 最好的宫崎骏，最好的久石让。 \n",
      "爬取电影：8 | 辛德勒的名单 | 9.5 | 拯救一个人，就是拯救整个世界。\n",
      "爬取电影：9 | 盗梦空间 | 9.3 | 诺兰给了我们一场无法盗取的梦。\n",
      "爬取电影：10 | 忠犬八公的故事 | 9.3 | 永远都不能忘记你所爱的人。\n",
      "爬取电影：11 | 机器人总动员 | 9.3 | 小瓦力，大人生。\n",
      "爬取电影：12 | 三傻大闹宝莱坞 | 9.2 | 英俊版憨豆，高情商版谢耳朵。\n",
      "爬取电影：13 | 海上钢琴师 | 9.2 | 每个人都要走一条自己坚定了的路，就算是粉身碎骨。 \n",
      "爬取电影：14 | 放牛班的春天 | 9.3 | 天籁一般的童声，是最接近上帝的存在。 \n",
      "爬取电影：15 | 楚门的世界 | 9.2 | 如果再也不能见到你，祝你早安，午安，晚安。\n",
      "爬取电影：16 | 大话西游之大圣娶亲 | 9.2 | 一生所爱。\n",
      "爬取电影：17 | 星际穿越 | 9.2 | 爱是一种力量，让我们超越时空感知它的存在。\n",
      "爬取电影：18 | 龙猫 | 9.2 | 人人心中都有个龙猫，童年就永远不会消失。\n",
      "爬取电影：19 | 教父 | 9.3 | 千万不要记恨你的对手，这样会让你失去理智。\n",
      "爬取电影：20 | 熔炉 | 9.3 | 我们一路奋战不是为了改变世界，而是为了不让世界改变我们。\n",
      "爬取电影：21 | 无间道 | 9.1 | 香港电影史上永不过时的杰作。\n",
      "爬取电影：22 | 疯狂动物城 | 9.2 | 迪士尼给我们营造的乌托邦就是这样，永远善良勇敢，永远出乎意料。\n",
      "爬取电影：23 | 当幸福来敲门 | 9.0 | 平民励志片。 \n",
      "爬取电影：24 | 怦然心动 | 9.0 | 真正的幸福是来自内心深处。\n",
      "爬取电影：25 | 触不可及 | 9.2 | 满满温情的高雅喜剧。\n"
     ]
    }
   ],
   "source": [
    "list = soup.find(class_='grid_view').find_all('li')\n",
    "\n",
    "for item in list:\n",
    "    item_name = item.find(class_='title').string\n",
    "    item_img = item.find('a').find('img').get('src')\n",
    "    item_index = item.find(class_='').string\n",
    "    item_score = item.find(class_='rating_num').string\n",
    "    item_author = item.find('p').text\n",
    "    item_intr = item.find(class_='inq').string\n",
    "\n",
    "    # print('爬取电影：' + item_index + ' | ' + item_name +' | ' + item_img +' | ' + item_score +' | ' + item_author +' | ' + item_intr )\n",
    "    print('爬取电影：' + item_index + ' | ' + item_name  +' | ' + item_score  +' | ' + item_intr )"
   ]
  },
  {
   "cell_type": "code",
   "execution_count": null,
   "metadata": {},
   "outputs": [],
   "source": []
  },
  {
   "cell_type": "code",
   "execution_count": 5,
   "metadata": {},
   "outputs": [],
   "source": [
    "import multiprocessing\n",
    "from multiprocessing import Pool\n",
    "from multiprocessing import Process\n",
    "import time"
   ]
  },
  {
   "cell_type": "code",
   "execution_count": null,
   "metadata": {},
   "outputs": [],
   "source": [
    "def main(url):\n",
    "    html = request_douban(url)\n",
    "    print(html[:500])\n",
    "#     soup = BeautifulSoup(html, 'lxml')\n",
    "\n",
    "if __name__ == '__main__':\n",
    "    start = time.time()\n",
    "    urls = []\n",
    "    pool = multiprocessing.Pool(multiprocessing.cpu_count())\n",
    "    for i in range(0, 2):\n",
    "        url = 'https://movie.douban.com/top250?start=' + str(i * 25) + '&filter='\n",
    "        urls.append(url)\n",
    "    pool.map(main, urls)\n",
    "    pool.close()\n",
    "    pool.join()\n"
   ]
  },
  {
   "cell_type": "code",
   "execution_count": null,
   "metadata": {},
   "outputs": [],
   "source": []
  }
 ],
 "metadata": {
  "kernelspec": {
   "display_name": "Python 3",
   "language": "python",
   "name": "python3"
  },
  "language_info": {
   "codemirror_mode": {
    "name": "ipython",
    "version": 3
   },
   "file_extension": ".py",
   "mimetype": "text/x-python",
   "name": "python",
   "nbconvert_exporter": "python",
   "pygments_lexer": "ipython3",
   "version": "3.6.5"
  }
 },
 "nbformat": 4,
 "nbformat_minor": 2
}
