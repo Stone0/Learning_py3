{
 "cells": [
  {
   "cell_type": "code",
   "execution_count": 3,
   "metadata": {},
   "outputs": [
    {
     "name": "stdout",
     "output_type": "stream",
     "text": [
      "开始线程：小明\n",
      "开始线程：小红\n",
      "小明 开始摸鱼 2019-05-21 11:16:17\n",
      "小明 开始摸鱼 2019-05-21 11:16:18\n",
      "小红 开始摸鱼 2019-05-21 11:16:18\n",
      "小明 开始摸鱼 2019-05-21 11:16:19\n",
      "小明 开始摸鱼 2019-05-21 11:16:20\n",
      "小红 开始摸鱼 2019-05-21 11:16:20\n",
      "小明 开始摸鱼 2019-05-21 11:16:21\n",
      "退出线程：小明\n",
      "小红 开始摸鱼 2019-05-21 11:16:22\n",
      "小红 开始摸鱼 2019-05-21 11:16:24\n",
      "小红 开始摸鱼 2019-05-21 11:16:26\n",
      "退出线程：小红\n",
      "退出主线程\n"
     ]
    }
   ],
   "source": [
    "import threading\n",
    "import time\n",
    "\n",
    "# 创建一个线程子类\n",
    "class MyThread(threading.Thread):\n",
    "    def __init__(self,threadID, name, counter):\n",
    "        threading.Thread.__init__(self)\n",
    "        self.threadID = threadID\n",
    "        self.name = name\n",
    "        self.counter = counter\n",
    "    \n",
    "    def run(self):\n",
    "        print(\"开始线程：\" + self.name)\n",
    "        moyu_time(self.name, self.counter, 5)\n",
    "        print(\"退出线程：\" + self.name)\n",
    "\n",
    "def moyu_time(threadName, delay, counter):\n",
    "    while counter:\n",
    "        time.sleep(delay)\n",
    "        print(\"%s 开始摸鱼 %s\" % (threadName, time.strftime(\"%Y-%m-%d %H:%M:%S\", time.localtime())))\n",
    "        counter -= 1\n",
    "\n",
    "# 创建新线程\n",
    "# 找两个人来摸鱼\n",
    "# 让小明摸一次鱼休息1秒钟\n",
    "# 让小红摸一次鱼休息2秒钟\n",
    "thread1 = MyThread(1, \"小明\", 1)\n",
    "thread2 = MyThread(2, \"小红\", 2)\n",
    "\n",
    "# 开启新线程\n",
    "thread1.start()\n",
    "thread2.start()\n",
    "\n",
    "# 等待至线程中止\n",
    "thread1.join()\n",
    "thread2.join()\n",
    "\n",
    "print (\"退出主线程\")"
   ]
  },
  {
   "cell_type": "code",
   "execution_count": 5,
   "metadata": {},
   "outputs": [
    {
     "name": "stdout",
     "output_type": "stream",
     "text": [
      "xiaoshuaib1 开始摸鱼 2019-05-21 11:19:05\n",
      "xiaoshuaib1 开始摸鱼 2019-05-21 11:19:06\n",
      "xiaoshuaib1 开始摸鱼 2019-05-21 11:19:07\n",
      "xiaoshuaib2 开始摸鱼 2019-05-21 11:19:08\n",
      "xiaoshuaib2 开始摸鱼 2019-05-21 11:19:09\n",
      "xiaoshuaib2 开始摸鱼 2019-05-21 11:19:10\n",
      "xiaoshuaib3 开始摸鱼 2019-05-21 11:19:11\n",
      "xiaoshuaib3 开始摸鱼 2019-05-21 11:19:12\n",
      "xiaoshuaib3 开始摸鱼 2019-05-21 11:19:13\n",
      "xiaoshuaib4 开始摸鱼 2019-05-21 11:19:14\n",
      "xiaoshuaib4 开始摸鱼 2019-05-21 11:19:15\n",
      "xiaoshuaib4 开始摸鱼 2019-05-21 11:19:16\n"
     ]
    }
   ],
   "source": [
    "# 通过线程池重复利用线程\n",
    "from concurrent.futures import ThreadPoolExecutor\n",
    "\n",
    "def moyu_time(name, delay, counter):\n",
    "    while counter:\n",
    "        time.sleep(delay)\n",
    "        print(\"%s 开始摸鱼 %s\" % (name, time.strftime(\"%Y-%m-%d %H:%M:%S\", time.localtime())))\n",
    "        counter -= 1\n",
    "\n",
    "\n",
    "if __name__ == '__main__':\n",
    "    pool = ThreadPoolExecutor(20)\n",
    "    for i in range(1,5):\n",
    "        pool.submit(moyu_time('xiaoshuaib'+str(i),1,3))\n"
   ]
  },
  {
   "cell_type": "code",
   "execution_count": 6,
   "metadata": {},
   "outputs": [
    {
     "name": "stdout",
     "output_type": "stream",
     "text": [
      " 开始摸鱼 2019-05-21 11:20:16 开始摸鱼 2019-05-21 11:20:16 开始摸鱼 2019-05-21 11:20:16\n",
      " 开始摸鱼 2019-05-21 11:20:16\n",
      " 开始摸鱼 2019-05-21 11:20:16\n",
      " 开始摸鱼 2019-05-21 11:20:16\n",
      " 开始摸鱼 2019-05-21 11:20:16\n",
      " 开始摸鱼 2019-05-21 11:20:16\n",
      " 开始摸鱼 2019-05-21 11:20:16\n",
      " 开始摸鱼 2019-05-21 11:20:16\n",
      " 开始摸鱼 2019-05-21 11:20:16\n",
      " 开始摸鱼 2019-05-21 11:20:16\n",
      " 开始摸鱼 2019-05-21 11:20:16\n",
      " 开始摸鱼 2019-05-21 11:20:16\n",
      " 开始摸鱼 2019-05-21 11:20:16\n",
      " 开始摸鱼 2019-05-21 11:20:16\n",
      " 开始摸鱼 2019-05-21 11:20:16\n",
      " 开始摸鱼 2019-05-21 11:20:16\n",
      " 开始摸鱼 2019-05-21 11:20:16\n",
      " 开始摸鱼 2019-05-21 11:20:16\n",
      "\n",
      "\n"
     ]
    }
   ],
   "source": [
    "import threading\n",
    "import time\n",
    "from queue import Queue\n",
    "\n",
    "class CustomThread(threading.Thread):\n",
    "    def __init__(self, queue):\n",
    "        threading.Thread.__init__(self)\n",
    "        self.__queue = queue\n",
    "\n",
    "    def run(self):\n",
    "        while True:\n",
    "            q_method = self.__queue.get()\n",
    "            q_method()\n",
    "            self.__queue.task_done()\n",
    "\n",
    "def moyu():\n",
    "    print(\" 开始摸鱼 %s\" % (time.strftime(\"%Y-%m-%d %H:%M:%S\", time.localtime())))\n",
    "\n",
    "def queue_pool():\n",
    "    queue = Queue(5)\n",
    "    for i in range(queue.maxsize):\n",
    "        t = CustomThread(queue)\n",
    "        t.setDaemon(True)\n",
    "        t.start()\n",
    "\n",
    "    for i in range(20):\n",
    "        queue.put(moyu)\n",
    "    queue.join()\n",
    "\n",
    "if __name__ == '__main__':\n",
    "    queue_pool()"
   ]
  },
  {
   "cell_type": "code",
   "execution_count": null,
   "metadata": {},
   "outputs": [],
   "source": []
  }
 ],
 "metadata": {
  "kernelspec": {
   "display_name": "Python 3",
   "language": "python",
   "name": "python3"
  },
  "language_info": {
   "codemirror_mode": {
    "name": "ipython",
    "version": 3
   },
   "file_extension": ".py",
   "mimetype": "text/x-python",
   "name": "python",
   "nbconvert_exporter": "python",
   "pygments_lexer": "ipython3",
   "version": "3.6.5"
  }
 },
 "nbformat": 4,
 "nbformat_minor": 2
}
