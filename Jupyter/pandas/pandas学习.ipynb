{
 "cells": [
  {
   "cell_type": "code",
   "execution_count": 18,
   "metadata": {},
   "outputs": [],
   "source": [
    "import pandas as pd\n",
    "import numpy as np\n",
    "import matplotlib.pyplot as plt"
   ]
  },
  {
   "cell_type": "code",
   "execution_count": 48,
   "metadata": {},
   "outputs": [
    {
     "data": {
      "text/plain": [
       "广州    1.0\n",
       "上海    3.0\n",
       "北京    5.0\n",
       "广州    NaN\n",
       "北京    6.0\n",
       "广州    8.0\n",
       "dtype: float64"
      ]
     },
     "execution_count": 48,
     "metadata": {},
     "output_type": "execute_result"
    }
   ],
   "source": [
    "# 创建一个一维Series, 通过python数组创建, 索引可重复\n",
    "s = pd.Series([1, 3, 5, np.nan, 6, 8], index=[\"广州\", \"上海\", \"北京\", \"广州\", \"北京\", \"广州\"])\n",
    "s"
   ]
  },
  {
   "cell_type": "code",
   "execution_count": 46,
   "metadata": {},
   "outputs": [
    {
     "data": {
      "text/plain": [
       "广州    200\n",
       "上海    300\n",
       "北京    400\n",
       "dtype: int64"
      ]
     },
     "execution_count": 46,
     "metadata": {},
     "output_type": "execute_result"
    }
   ],
   "source": [
    "# 创建一个一维Series, 通过python字典创建, 索引不可重复\n",
    "s = pd.Series({\"广州\": 200, \"上海\": 300, \"北京\": 400})\n",
    "s"
   ]
  },
  {
   "cell_type": "code",
   "execution_count": 107,
   "metadata": {},
   "outputs": [
    {
     "data": {
      "text/plain": [
       "a    5\n",
       "b    6\n",
       "a    7\n",
       "dtype: int32"
      ]
     },
     "execution_count": 107,
     "metadata": {},
     "output_type": "execute_result"
    }
   ],
   "source": [
    "# 创建一个一维Series, 通过numpy数组创建\n",
    "s = pd.Series(np.arange(5,8), index=['a', 'b', 'a'])\n",
    "s"
   ]
  },
  {
   "cell_type": "code",
   "execution_count": 108,
   "metadata": {},
   "outputs": [
    {
     "name": "stdout",
     "output_type": "stream",
     "text": [
      "    0   1   2   3\n",
      "0  10  11  12  13\n",
      "1  14  15  16  17\n",
      "2  18  19  20  21\n"
     ]
    }
   ],
   "source": [
    "# DataFrame(多特征数据,既有行索引,又有列索引)\n",
    "# 创建一个3行4列的DataFrame类型数据\n",
    "data_3_4 = pd.DataFrame(np.arange(10,22).reshape(3,4))\n",
    "print(data_3_4)"
   ]
  },
  {
   "cell_type": "code",
   "execution_count": 109,
   "metadata": {},
   "outputs": [
    {
     "name": "stdout",
     "output_type": "stream",
     "text": [
      "    0   1   2   3\n",
      "0  10  11  12  13\n"
     ]
    }
   ],
   "source": [
    "# 打印第一行数据\n",
    "print(data_3_4[:1])"
   ]
  },
  {
   "cell_type": "code",
   "execution_count": 110,
   "metadata": {},
   "outputs": [
    {
     "name": "stdout",
     "output_type": "stream",
     "text": [
      "0    10\n",
      "1    14\n",
      "2    18\n",
      "Name: 0, dtype: int32\n"
     ]
    }
   ],
   "source": [
    "# 打印第一列数据\n",
    "print(data_3_4[:][0])"
   ]
  },
  {
   "cell_type": "code",
   "execution_count": 200,
   "metadata": {},
   "outputs": [
    {
     "data": {
      "text/html": [
       "<div>\n",
       "<style scoped>\n",
       "    .dataframe tbody tr th:only-of-type {\n",
       "        vertical-align: middle;\n",
       "    }\n",
       "\n",
       "    .dataframe tbody tr th {\n",
       "        vertical-align: top;\n",
       "    }\n",
       "\n",
       "    .dataframe thead th {\n",
       "        text-align: right;\n",
       "    }\n",
       "</style>\n",
       "<table border=\"1\" class=\"dataframe\">\n",
       "  <thead>\n",
       "    <tr style=\"text-align: right;\">\n",
       "      <th></th>\n",
       "      <th>id</th>\n",
       "      <th>name</th>\n",
       "      <th>age</th>\n",
       "      <th>sex</th>\n",
       "      <th>score</th>\n",
       "    </tr>\n",
       "  </thead>\n",
       "  <tbody>\n",
       "    <tr>\n",
       "      <th>0</th>\n",
       "      <td>1</td>\n",
       "      <td>张思山</td>\n",
       "      <td>16.0</td>\n",
       "      <td>女</td>\n",
       "      <td>69.0</td>\n",
       "    </tr>\n",
       "    <tr>\n",
       "      <th>1</th>\n",
       "      <td>2</td>\n",
       "      <td>陈梓涵</td>\n",
       "      <td>NaN</td>\n",
       "      <td>男</td>\n",
       "      <td>59.0</td>\n",
       "    </tr>\n",
       "    <tr>\n",
       "      <th>2</th>\n",
       "      <td>3</td>\n",
       "      <td>李锐锋</td>\n",
       "      <td>17.0</td>\n",
       "      <td>男</td>\n",
       "      <td>70.0</td>\n",
       "    </tr>\n",
       "    <tr>\n",
       "      <th>3</th>\n",
       "      <td>4</td>\n",
       "      <td>张昆纬</td>\n",
       "      <td>18.0</td>\n",
       "      <td>NaN</td>\n",
       "      <td>40.0</td>\n",
       "    </tr>\n",
       "    <tr>\n",
       "      <th>4</th>\n",
       "      <td>5</td>\n",
       "      <td>王鸿达</td>\n",
       "      <td>NaN</td>\n",
       "      <td>女</td>\n",
       "      <td>NaN</td>\n",
       "    </tr>\n",
       "    <tr>\n",
       "      <th>5</th>\n",
       "      <td>6</td>\n",
       "      <td>柯南</td>\n",
       "      <td>19.0</td>\n",
       "      <td>男</td>\n",
       "      <td>66.0</td>\n",
       "    </tr>\n",
       "    <tr>\n",
       "      <th>6</th>\n",
       "      <td>7</td>\n",
       "      <td>琦玉</td>\n",
       "      <td>17.0</td>\n",
       "      <td>男</td>\n",
       "      <td>NaN</td>\n",
       "    </tr>\n",
       "    <tr>\n",
       "      <th>7</th>\n",
       "      <td>8</td>\n",
       "      <td>张诗兰</td>\n",
       "      <td>NaN</td>\n",
       "      <td>NaN</td>\n",
       "      <td>80.0</td>\n",
       "    </tr>\n",
       "    <tr>\n",
       "      <th>8</th>\n",
       "      <td>9</td>\n",
       "      <td>王梦竹</td>\n",
       "      <td>18.0</td>\n",
       "      <td>女</td>\n",
       "      <td>95.0</td>\n",
       "    </tr>\n",
       "  </tbody>\n",
       "</table>\n",
       "</div>"
      ],
      "text/plain": [
       "   id name   age  sex  score\n",
       "0   1  张思山  16.0    女   69.0\n",
       "1   2  陈梓涵   NaN    男   59.0\n",
       "2   3  李锐锋  17.0    男   70.0\n",
       "3   4  张昆纬  18.0  NaN   40.0\n",
       "4   5  王鸿达   NaN    女    NaN\n",
       "5   6   柯南  19.0    男   66.0\n",
       "6   7   琦玉  17.0    男    NaN\n",
       "7   8  张诗兰   NaN  NaN   80.0\n",
       "8   9  王梦竹  18.0    女   95.0"
      ]
     },
     "execution_count": 200,
     "metadata": {},
     "output_type": "execute_result"
    }
   ],
   "source": [
    "# DataFrame属性\n",
    "tmp_df = pd.DataFrame({\"id\":[101,102,103,104,105],\n",
    "                      \"name\":['张三','李四','王五','赵六','陈七'],\n",
    "                      \"age\":[18,17,np.nan,18,17],\n",
    "                      \"sex\":['女','男','男',np.nan,'女'],\n",
    "                      \"score\":[69,59,70,40,np.nan]},\n",
    "                     columns=['id','name','age','sex','score'])\n",
    "tmp_df = pd.DataFrame({\"id\":range(1,10),\n",
    "                      \"name\":['张思山','陈梓涵','李锐锋','张昆纬','王鸿达','柯南','琦玉','张诗兰','王梦竹'],\n",
    "                      \"age\":[16,np.nan,17,18,np.nan,19,17,np.nan,18],\n",
    "                      \"sex\":['女','男','男',np.nan,'女','男','男',np.nan,'女'],\n",
    "                      \"score\":[69,59,70,40,np.nan,66,np.nan,80,95]})\n",
    "tmp_df"
   ]
  },
  {
   "cell_type": "code",
   "execution_count": 201,
   "metadata": {},
   "outputs": [
    {
     "data": {
      "text/plain": [
       "(9, 5)"
      ]
     },
     "execution_count": 201,
     "metadata": {},
     "output_type": "execute_result"
    }
   ],
   "source": [
    "# 数据维度\n",
    "tmp_df.shape"
   ]
  },
  {
   "cell_type": "code",
   "execution_count": 202,
   "metadata": {},
   "outputs": [
    {
     "data": {
      "text/plain": [
       "id         int64\n",
       "name      object\n",
       "age      float64\n",
       "sex       object\n",
       "score    float64\n",
       "dtype: object"
      ]
     },
     "execution_count": 202,
     "metadata": {},
     "output_type": "execute_result"
    }
   ],
   "source": [
    "# 每列数据的类型信息\n",
    "tmp_df.dtypes"
   ]
  },
  {
   "cell_type": "code",
   "execution_count": 203,
   "metadata": {},
   "outputs": [
    {
     "data": {
      "text/plain": [
       "2"
      ]
     },
     "execution_count": 203,
     "metadata": {},
     "output_type": "execute_result"
    }
   ],
   "source": [
    "# 数据的维数\n",
    "tmp_df.ndim"
   ]
  },
  {
   "cell_type": "code",
   "execution_count": 204,
   "metadata": {},
   "outputs": [
    {
     "data": {
      "text/plain": [
       "RangeIndex(start=0, stop=9, step=1)"
      ]
     },
     "execution_count": 204,
     "metadata": {},
     "output_type": "execute_result"
    }
   ],
   "source": [
    "# 数据的索引(起/始/步长)\n",
    "tmp_df.index"
   ]
  },
  {
   "cell_type": "code",
   "execution_count": 205,
   "metadata": {},
   "outputs": [
    {
     "data": {
      "text/plain": [
       "Index(['id', 'name', 'age', 'sex', 'score'], dtype='object')"
      ]
     },
     "execution_count": 205,
     "metadata": {},
     "output_type": "execute_result"
    }
   ],
   "source": [
    "# 每列属性名称\n",
    "tmp_df.columns"
   ]
  },
  {
   "cell_type": "code",
   "execution_count": 206,
   "metadata": {},
   "outputs": [
    {
     "data": {
      "text/plain": [
       "array([[1, '张思山', 16.0, '女', 69.0],\n",
       "       [2, '陈梓涵', nan, '男', 59.0],\n",
       "       [3, '李锐锋', 17.0, '男', 70.0],\n",
       "       [4, '张昆纬', 18.0, nan, 40.0],\n",
       "       [5, '王鸿达', nan, '女', nan],\n",
       "       [6, '柯南', 19.0, '男', 66.0],\n",
       "       [7, '琦玉', 17.0, '男', nan],\n",
       "       [8, '张诗兰', nan, nan, 80.0],\n",
       "       [9, '王梦竹', 18.0, '女', 95.0]], dtype=object)"
      ]
     },
     "execution_count": 206,
     "metadata": {},
     "output_type": "execute_result"
    }
   ],
   "source": [
    "# 通过数组显示数据\n",
    "tmp_df.values"
   ]
  },
  {
   "cell_type": "code",
   "execution_count": 207,
   "metadata": {},
   "outputs": [
    {
     "data": {
      "text/html": [
       "<div>\n",
       "<style scoped>\n",
       "    .dataframe tbody tr th:only-of-type {\n",
       "        vertical-align: middle;\n",
       "    }\n",
       "\n",
       "    .dataframe tbody tr th {\n",
       "        vertical-align: top;\n",
       "    }\n",
       "\n",
       "    .dataframe thead th {\n",
       "        text-align: right;\n",
       "    }\n",
       "</style>\n",
       "<table border=\"1\" class=\"dataframe\">\n",
       "  <thead>\n",
       "    <tr style=\"text-align: right;\">\n",
       "      <th></th>\n",
       "      <th>id</th>\n",
       "      <th>name</th>\n",
       "      <th>age</th>\n",
       "      <th>sex</th>\n",
       "      <th>score</th>\n",
       "    </tr>\n",
       "  </thead>\n",
       "  <tbody>\n",
       "    <tr>\n",
       "      <th>0</th>\n",
       "      <td>1</td>\n",
       "      <td>张思山</td>\n",
       "      <td>16.0</td>\n",
       "      <td>女</td>\n",
       "      <td>69.0</td>\n",
       "    </tr>\n",
       "    <tr>\n",
       "      <th>1</th>\n",
       "      <td>2</td>\n",
       "      <td>陈梓涵</td>\n",
       "      <td>NaN</td>\n",
       "      <td>男</td>\n",
       "      <td>59.0</td>\n",
       "    </tr>\n",
       "    <tr>\n",
       "      <th>2</th>\n",
       "      <td>3</td>\n",
       "      <td>李锐锋</td>\n",
       "      <td>17.0</td>\n",
       "      <td>男</td>\n",
       "      <td>70.0</td>\n",
       "    </tr>\n",
       "    <tr>\n",
       "      <th>3</th>\n",
       "      <td>4</td>\n",
       "      <td>张昆纬</td>\n",
       "      <td>18.0</td>\n",
       "      <td>NaN</td>\n",
       "      <td>40.0</td>\n",
       "    </tr>\n",
       "    <tr>\n",
       "      <th>4</th>\n",
       "      <td>5</td>\n",
       "      <td>王鸿达</td>\n",
       "      <td>NaN</td>\n",
       "      <td>女</td>\n",
       "      <td>NaN</td>\n",
       "    </tr>\n",
       "  </tbody>\n",
       "</table>\n",
       "</div>"
      ],
      "text/plain": [
       "   id name   age  sex  score\n",
       "0   1  张思山  16.0    女   69.0\n",
       "1   2  陈梓涵   NaN    男   59.0\n",
       "2   3  李锐锋  17.0    男   70.0\n",
       "3   4  张昆纬  18.0  NaN   40.0\n",
       "4   5  王鸿达   NaN    女    NaN"
      ]
     },
     "execution_count": 207,
     "metadata": {},
     "output_type": "execute_result"
    }
   ],
   "source": [
    "# 整体查询\n",
    "# 查看前5行\n",
    "tmp_df.head(5)"
   ]
  },
  {
   "cell_type": "code",
   "execution_count": 208,
   "metadata": {},
   "outputs": [
    {
     "data": {
      "text/html": [
       "<div>\n",
       "<style scoped>\n",
       "    .dataframe tbody tr th:only-of-type {\n",
       "        vertical-align: middle;\n",
       "    }\n",
       "\n",
       "    .dataframe tbody tr th {\n",
       "        vertical-align: top;\n",
       "    }\n",
       "\n",
       "    .dataframe thead th {\n",
       "        text-align: right;\n",
       "    }\n",
       "</style>\n",
       "<table border=\"1\" class=\"dataframe\">\n",
       "  <thead>\n",
       "    <tr style=\"text-align: right;\">\n",
       "      <th></th>\n",
       "      <th>id</th>\n",
       "      <th>name</th>\n",
       "      <th>age</th>\n",
       "      <th>sex</th>\n",
       "      <th>score</th>\n",
       "    </tr>\n",
       "  </thead>\n",
       "  <tbody>\n",
       "    <tr>\n",
       "      <th>4</th>\n",
       "      <td>5</td>\n",
       "      <td>王鸿达</td>\n",
       "      <td>NaN</td>\n",
       "      <td>女</td>\n",
       "      <td>NaN</td>\n",
       "    </tr>\n",
       "    <tr>\n",
       "      <th>5</th>\n",
       "      <td>6</td>\n",
       "      <td>柯南</td>\n",
       "      <td>19.0</td>\n",
       "      <td>男</td>\n",
       "      <td>66.0</td>\n",
       "    </tr>\n",
       "    <tr>\n",
       "      <th>6</th>\n",
       "      <td>7</td>\n",
       "      <td>琦玉</td>\n",
       "      <td>17.0</td>\n",
       "      <td>男</td>\n",
       "      <td>NaN</td>\n",
       "    </tr>\n",
       "    <tr>\n",
       "      <th>7</th>\n",
       "      <td>8</td>\n",
       "      <td>张诗兰</td>\n",
       "      <td>NaN</td>\n",
       "      <td>NaN</td>\n",
       "      <td>80.0</td>\n",
       "    </tr>\n",
       "    <tr>\n",
       "      <th>8</th>\n",
       "      <td>9</td>\n",
       "      <td>王梦竹</td>\n",
       "      <td>18.0</td>\n",
       "      <td>女</td>\n",
       "      <td>95.0</td>\n",
       "    </tr>\n",
       "  </tbody>\n",
       "</table>\n",
       "</div>"
      ],
      "text/plain": [
       "   id name   age  sex  score\n",
       "4   5  王鸿达   NaN    女    NaN\n",
       "5   6   柯南  19.0    男   66.0\n",
       "6   7   琦玉  17.0    男    NaN\n",
       "7   8  张诗兰   NaN  NaN   80.0\n",
       "8   9  王梦竹  18.0    女   95.0"
      ]
     },
     "execution_count": 208,
     "metadata": {},
     "output_type": "execute_result"
    }
   ],
   "source": [
    "# 查看最后5行\n",
    "tmp_df.tail(5)"
   ]
  },
  {
   "cell_type": "code",
   "execution_count": 209,
   "metadata": {},
   "outputs": [
    {
     "name": "stdout",
     "output_type": "stream",
     "text": [
      "   id name   age  sex  score\n",
      "0   1  张思山  16.0    女   69.0\n",
      "1   2  陈梓涵   NaN    男   59.0\n",
      "2   3  李锐锋  17.0    男   70.0\n",
      "3   4  张昆纬  18.0  NaN   40.0\n",
      "4   5  王鸿达   NaN    女    NaN\n",
      "5   6   柯南  19.0    男   66.0\n",
      "6   7   琦玉  17.0    男    NaN\n",
      "7   8  张诗兰   NaN  NaN   80.0\n",
      "8   9  王梦竹  18.0    女   95.0\n",
      "             id        age      score\n",
      "count  9.000000   6.000000   7.000000\n",
      "mean   5.000000  17.500000  68.428571\n",
      "std    2.738613   1.048809  17.057326\n",
      "min    1.000000  16.000000  40.000000\n",
      "25%    3.000000  17.000000  62.500000\n",
      "50%    5.000000  17.500000  69.000000\n",
      "75%    7.000000  18.000000  75.000000\n",
      "max    9.000000  19.000000  95.000000\n"
     ]
    }
   ],
   "source": [
    "print(tmp_df)\n",
    "# 查看描述信息\n",
    "print(tmp_df.describe())\n",
    "#count:总计非空值数量\n",
    "#mean:平均值\n",
    "#std:标准偏差\n",
    "#min:最小值\n",
    "#25%:百分之25的数据集情况\n",
    "#50%:百分之50的数据集情况\n",
    "#75%:百分之75的数据集情况\n",
    "#max:最大值"
   ]
  },
  {
   "cell_type": "code",
   "execution_count": 210,
   "metadata": {},
   "outputs": [
    {
     "data": {
      "text/html": [
       "<div>\n",
       "<style scoped>\n",
       "    .dataframe tbody tr th:only-of-type {\n",
       "        vertical-align: middle;\n",
       "    }\n",
       "\n",
       "    .dataframe tbody tr th {\n",
       "        vertical-align: top;\n",
       "    }\n",
       "\n",
       "    .dataframe thead th {\n",
       "        text-align: right;\n",
       "    }\n",
       "</style>\n",
       "<table border=\"1\" class=\"dataframe\">\n",
       "  <thead>\n",
       "    <tr style=\"text-align: right;\">\n",
       "      <th></th>\n",
       "      <th>id</th>\n",
       "      <th>name</th>\n",
       "      <th>age</th>\n",
       "      <th>sex</th>\n",
       "      <th>score</th>\n",
       "    </tr>\n",
       "  </thead>\n",
       "  <tbody>\n",
       "    <tr>\n",
       "      <th>3</th>\n",
       "      <td>4</td>\n",
       "      <td>张昆纬</td>\n",
       "      <td>18.0</td>\n",
       "      <td>NaN</td>\n",
       "      <td>40.0</td>\n",
       "    </tr>\n",
       "    <tr>\n",
       "      <th>5</th>\n",
       "      <td>6</td>\n",
       "      <td>柯南</td>\n",
       "      <td>19.0</td>\n",
       "      <td>男</td>\n",
       "      <td>66.0</td>\n",
       "    </tr>\n",
       "    <tr>\n",
       "      <th>8</th>\n",
       "      <td>9</td>\n",
       "      <td>王梦竹</td>\n",
       "      <td>18.0</td>\n",
       "      <td>女</td>\n",
       "      <td>95.0</td>\n",
       "    </tr>\n",
       "  </tbody>\n",
       "</table>\n",
       "</div>"
      ],
      "text/plain": [
       "   id name   age  sex  score\n",
       "3   4  张昆纬  18.0  NaN   40.0\n",
       "5   6   柯南  19.0    男   66.0\n",
       "8   9  王梦竹  18.0    女   95.0"
      ]
     },
     "execution_count": 210,
     "metadata": {},
     "output_type": "execute_result"
    }
   ],
   "source": [
    "# 索引查询\n",
    "# 找出年龄大于等于18岁的人\n",
    "tmp_df[tmp_df[\"age\"]>=18]"
   ]
  },
  {
   "cell_type": "code",
   "execution_count": 211,
   "metadata": {},
   "outputs": [
    {
     "data": {
      "text/html": [
       "<div>\n",
       "<style scoped>\n",
       "    .dataframe tbody tr th:only-of-type {\n",
       "        vertical-align: middle;\n",
       "    }\n",
       "\n",
       "    .dataframe tbody tr th {\n",
       "        vertical-align: top;\n",
       "    }\n",
       "\n",
       "    .dataframe thead th {\n",
       "        text-align: right;\n",
       "    }\n",
       "</style>\n",
       "<table border=\"1\" class=\"dataframe\">\n",
       "  <thead>\n",
       "    <tr style=\"text-align: right;\">\n",
       "      <th></th>\n",
       "      <th>id</th>\n",
       "      <th>name</th>\n",
       "      <th>age</th>\n",
       "      <th>sex</th>\n",
       "      <th>score</th>\n",
       "    </tr>\n",
       "  </thead>\n",
       "  <tbody>\n",
       "    <tr>\n",
       "      <th>8</th>\n",
       "      <td>9</td>\n",
       "      <td>王梦竹</td>\n",
       "      <td>18.0</td>\n",
       "      <td>女</td>\n",
       "      <td>95.0</td>\n",
       "    </tr>\n",
       "    <tr>\n",
       "      <th>7</th>\n",
       "      <td>8</td>\n",
       "      <td>张诗兰</td>\n",
       "      <td>NaN</td>\n",
       "      <td>NaN</td>\n",
       "      <td>80.0</td>\n",
       "    </tr>\n",
       "    <tr>\n",
       "      <th>2</th>\n",
       "      <td>3</td>\n",
       "      <td>李锐锋</td>\n",
       "      <td>17.0</td>\n",
       "      <td>男</td>\n",
       "      <td>70.0</td>\n",
       "    </tr>\n",
       "    <tr>\n",
       "      <th>0</th>\n",
       "      <td>1</td>\n",
       "      <td>张思山</td>\n",
       "      <td>16.0</td>\n",
       "      <td>女</td>\n",
       "      <td>69.0</td>\n",
       "    </tr>\n",
       "    <tr>\n",
       "      <th>5</th>\n",
       "      <td>6</td>\n",
       "      <td>柯南</td>\n",
       "      <td>19.0</td>\n",
       "      <td>男</td>\n",
       "      <td>66.0</td>\n",
       "    </tr>\n",
       "  </tbody>\n",
       "</table>\n",
       "</div>"
      ],
      "text/plain": [
       "   id name   age  sex  score\n",
       "8   9  王梦竹  18.0    女   95.0\n",
       "7   8  张诗兰   NaN  NaN   80.0\n",
       "2   3  李锐锋  17.0    男   70.0\n",
       "0   1  张思山  16.0    女   69.0\n",
       "5   6   柯南  19.0    男   66.0"
      ]
     },
     "execution_count": 211,
     "metadata": {},
     "output_type": "execute_result"
    }
   ],
   "source": [
    "# 根据分数排序, ascending默认为True(升序)\n",
    "tmp_df.sort_values(by=\"score\", ascending=False).head(5)"
   ]
  },
  {
   "cell_type": "code",
   "execution_count": 212,
   "metadata": {},
   "outputs": [
    {
     "data": {
      "text/plain": [
       "17.5"
      ]
     },
     "execution_count": 212,
     "metadata": {},
     "output_type": "execute_result"
    }
   ],
   "source": [
    "# 年龄平均值\n",
    "tmp_df[\"age\"].mean()"
   ]
  },
  {
   "cell_type": "code",
   "execution_count": 213,
   "metadata": {},
   "outputs": [
    {
     "name": "stdout",
     "output_type": "stream",
     "text": [
      "   id name   age  sex  score\n",
      "0   1  张思山  16.0    女   69.0\n",
      "1   2  陈梓涵   NaN    男   59.0\n",
      "2   3  李锐锋  17.0    男   70.0\n",
      "3   4  张昆纬  18.0  NaN   40.0\n",
      "4   5  王鸿达   NaN    女    NaN\n",
      "5   6   柯南  19.0    男   66.0\n",
      "6   7   琦玉  17.0    男    NaN\n",
      "7   8  张诗兰   NaN  NaN   80.0\n",
      "8   9  王梦竹  18.0    女   95.0\n"
     ]
    }
   ],
   "source": [
    "# 数据处理\n",
    "print(tmp_df)\n",
    "# 找到存在缺失值的样本\n"
   ]
  },
  {
   "cell_type": "code",
   "execution_count": 214,
   "metadata": {},
   "outputs": [
    {
     "data": {
      "text/html": [
       "<div>\n",
       "<style scoped>\n",
       "    .dataframe tbody tr th:only-of-type {\n",
       "        vertical-align: middle;\n",
       "    }\n",
       "\n",
       "    .dataframe tbody tr th {\n",
       "        vertical-align: top;\n",
       "    }\n",
       "\n",
       "    .dataframe thead th {\n",
       "        text-align: right;\n",
       "    }\n",
       "</style>\n",
       "<table border=\"1\" class=\"dataframe\">\n",
       "  <thead>\n",
       "    <tr style=\"text-align: right;\">\n",
       "      <th></th>\n",
       "      <th>id</th>\n",
       "      <th>name</th>\n",
       "      <th>age</th>\n",
       "      <th>sex</th>\n",
       "      <th>score</th>\n",
       "    </tr>\n",
       "  </thead>\n",
       "  <tbody>\n",
       "    <tr>\n",
       "      <th>0</th>\n",
       "      <td>1</td>\n",
       "      <td>张思山</td>\n",
       "      <td>16.0</td>\n",
       "      <td>女</td>\n",
       "      <td>69.0</td>\n",
       "    </tr>\n",
       "    <tr>\n",
       "      <th>2</th>\n",
       "      <td>3</td>\n",
       "      <td>李锐锋</td>\n",
       "      <td>17.0</td>\n",
       "      <td>男</td>\n",
       "      <td>70.0</td>\n",
       "    </tr>\n",
       "    <tr>\n",
       "      <th>5</th>\n",
       "      <td>6</td>\n",
       "      <td>柯南</td>\n",
       "      <td>19.0</td>\n",
       "      <td>男</td>\n",
       "      <td>66.0</td>\n",
       "    </tr>\n",
       "    <tr>\n",
       "      <th>8</th>\n",
       "      <td>9</td>\n",
       "      <td>王梦竹</td>\n",
       "      <td>18.0</td>\n",
       "      <td>女</td>\n",
       "      <td>95.0</td>\n",
       "    </tr>\n",
       "  </tbody>\n",
       "</table>\n",
       "</div>"
      ],
      "text/plain": [
       "   id name   age sex  score\n",
       "0   1  张思山  16.0   女   69.0\n",
       "2   3  李锐锋  17.0   男   70.0\n",
       "5   6   柯南  19.0   男   66.0\n",
       "8   9  王梦竹  18.0   女   95.0"
      ]
     },
     "execution_count": 214,
     "metadata": {},
     "output_type": "execute_result"
    }
   ],
   "source": [
    "# 删除存在缺失值的样本\n",
    "tmp_df.dropna()"
   ]
  },
  {
   "cell_type": "code",
   "execution_count": 219,
   "metadata": {},
   "outputs": [
    {
     "data": {
      "text/html": [
       "<div>\n",
       "<style scoped>\n",
       "    .dataframe tbody tr th:only-of-type {\n",
       "        vertical-align: middle;\n",
       "    }\n",
       "\n",
       "    .dataframe tbody tr th {\n",
       "        vertical-align: top;\n",
       "    }\n",
       "\n",
       "    .dataframe thead th {\n",
       "        text-align: right;\n",
       "    }\n",
       "</style>\n",
       "<table border=\"1\" class=\"dataframe\">\n",
       "  <thead>\n",
       "    <tr style=\"text-align: right;\">\n",
       "      <th></th>\n",
       "      <th>id</th>\n",
       "      <th>name</th>\n",
       "      <th>age</th>\n",
       "      <th>sex</th>\n",
       "      <th>score</th>\n",
       "    </tr>\n",
       "  </thead>\n",
       "  <tbody>\n",
       "    <tr>\n",
       "      <th>0</th>\n",
       "      <td>1</td>\n",
       "      <td>张思山</td>\n",
       "      <td>16.0</td>\n",
       "      <td>女</td>\n",
       "      <td>69.0</td>\n",
       "    </tr>\n",
       "    <tr>\n",
       "      <th>1</th>\n",
       "      <td>2</td>\n",
       "      <td>陈梓涵</td>\n",
       "      <td>NaN</td>\n",
       "      <td>男</td>\n",
       "      <td>59.0</td>\n",
       "    </tr>\n",
       "    <tr>\n",
       "      <th>2</th>\n",
       "      <td>3</td>\n",
       "      <td>李锐锋</td>\n",
       "      <td>17.0</td>\n",
       "      <td>男</td>\n",
       "      <td>70.0</td>\n",
       "    </tr>\n",
       "    <tr>\n",
       "      <th>3</th>\n",
       "      <td>4</td>\n",
       "      <td>张昆纬</td>\n",
       "      <td>18.0</td>\n",
       "      <td>NaN</td>\n",
       "      <td>40.0</td>\n",
       "    </tr>\n",
       "    <tr>\n",
       "      <th>4</th>\n",
       "      <td>5</td>\n",
       "      <td>王鸿达</td>\n",
       "      <td>NaN</td>\n",
       "      <td>女</td>\n",
       "      <td>NaN</td>\n",
       "    </tr>\n",
       "    <tr>\n",
       "      <th>5</th>\n",
       "      <td>6</td>\n",
       "      <td>柯南</td>\n",
       "      <td>19.0</td>\n",
       "      <td>男</td>\n",
       "      <td>66.0</td>\n",
       "    </tr>\n",
       "    <tr>\n",
       "      <th>6</th>\n",
       "      <td>7</td>\n",
       "      <td>琦玉</td>\n",
       "      <td>17.0</td>\n",
       "      <td>男</td>\n",
       "      <td>NaN</td>\n",
       "    </tr>\n",
       "    <tr>\n",
       "      <th>7</th>\n",
       "      <td>8</td>\n",
       "      <td>张诗兰</td>\n",
       "      <td>NaN</td>\n",
       "      <td>NaN</td>\n",
       "      <td>80.0</td>\n",
       "    </tr>\n",
       "    <tr>\n",
       "      <th>8</th>\n",
       "      <td>9</td>\n",
       "      <td>王梦竹</td>\n",
       "      <td>18.0</td>\n",
       "      <td>女</td>\n",
       "      <td>95.0</td>\n",
       "    </tr>\n",
       "  </tbody>\n",
       "</table>\n",
       "</div>"
      ],
      "text/plain": [
       "   id name   age  sex  score\n",
       "0   1  张思山  16.0    女   69.0\n",
       "1   2  陈梓涵   NaN    男   59.0\n",
       "2   3  李锐锋  17.0    男   70.0\n",
       "3   4  张昆纬  18.0  NaN   40.0\n",
       "4   5  王鸿达   NaN    女    NaN\n",
       "5   6   柯南  19.0    男   66.0\n",
       "6   7   琦玉  17.0    男    NaN\n",
       "7   8  张诗兰   NaN  NaN   80.0\n",
       "8   9  王梦竹  18.0    女   95.0"
      ]
     },
     "execution_count": 219,
     "metadata": {},
     "output_type": "execute_result"
    }
   ],
   "source": [
    "# 使用平均值填充缺失值并替换原df\n",
    "# tmp_df[\"score\"].fillna(tmp_df[\"score\"].mean(), inplace=True)\n",
    "tmp_df[\"score\"].fillna(tmp_df[\"score\"].mean())\n",
    "tmp_df"
   ]
  },
  {
   "cell_type": "code",
   "execution_count": 226,
   "metadata": {},
   "outputs": [
    {
     "data": {
      "text/html": [
       "<div>\n",
       "<style scoped>\n",
       "    .dataframe tbody tr th:only-of-type {\n",
       "        vertical-align: middle;\n",
       "    }\n",
       "\n",
       "    .dataframe tbody tr th {\n",
       "        vertical-align: top;\n",
       "    }\n",
       "\n",
       "    .dataframe thead th {\n",
       "        text-align: right;\n",
       "    }\n",
       "</style>\n",
       "<table border=\"1\" class=\"dataframe\">\n",
       "  <thead>\n",
       "    <tr style=\"text-align: right;\">\n",
       "      <th></th>\n",
       "      <th>id</th>\n",
       "      <th>name</th>\n",
       "      <th>age</th>\n",
       "      <th>sex</th>\n",
       "      <th>score</th>\n",
       "      <th>date</th>\n",
       "    </tr>\n",
       "  </thead>\n",
       "  <tbody>\n",
       "    <tr>\n",
       "      <th>0</th>\n",
       "      <td>1</td>\n",
       "      <td>张思山</td>\n",
       "      <td>16</td>\n",
       "      <td>女</td>\n",
       "      <td>59.0</td>\n",
       "      <td>2019-03-05 10:20:23</td>\n",
       "    </tr>\n",
       "    <tr>\n",
       "      <th>1</th>\n",
       "      <td>2</td>\n",
       "      <td>李锐锋</td>\n",
       "      <td>18</td>\n",
       "      <td>?</td>\n",
       "      <td>70.0</td>\n",
       "      <td>2019-03-04 20:30:38</td>\n",
       "    </tr>\n",
       "    <tr>\n",
       "      <th>2</th>\n",
       "      <td>3</td>\n",
       "      <td>王鸿达</td>\n",
       "      <td>NaN</td>\n",
       "      <td>女</td>\n",
       "      <td>40.0</td>\n",
       "      <td>2019-03-03 11:12:14</td>\n",
       "    </tr>\n",
       "    <tr>\n",
       "      <th>3</th>\n",
       "      <td>4</td>\n",
       "      <td>柯南</td>\n",
       "      <td>19</td>\n",
       "      <td>男</td>\n",
       "      <td>NaN</td>\n",
       "      <td>2019-03-04 16:40:56</td>\n",
       "    </tr>\n",
       "    <tr>\n",
       "      <th>4</th>\n",
       "      <td>5</td>\n",
       "      <td>琦玉</td>\n",
       "      <td>?</td>\n",
       "      <td>女</td>\n",
       "      <td>80.0</td>\n",
       "      <td>2019-03-05 08:03:13</td>\n",
       "    </tr>\n",
       "  </tbody>\n",
       "</table>\n",
       "</div>"
      ],
      "text/plain": [
       "   id name  age sex  score                 date\n",
       "0   1  张思山   16   女   59.0  2019-03-05 10:20:23\n",
       "1   2  李锐锋   18   ?   70.0  2019-03-04 20:30:38\n",
       "2   3  王鸿达  NaN   女   40.0  2019-03-03 11:12:14\n",
       "3   4   柯南   19   男    NaN  2019-03-04 16:40:56\n",
       "4   5   琦玉    ?   女   80.0  2019-03-05 08:03:13"
      ]
     },
     "execution_count": 226,
     "metadata": {},
     "output_type": "execute_result"
    }
   ],
   "source": [
    "df1 = pd.DataFrame({\"id\":range(1,6),\n",
    "                      \"name\":['张思山','李锐锋','王鸿达','柯南','琦玉'],\n",
    "                      \"age\":[16,18,np.nan,19,'?'],\n",
    "                      \"sex\":['女','?','女','男','女'],\n",
    "                      \"score\":[59,70,40,np.nan,80],\n",
    "                      \"date\":[\"2019-03-05 10:20:23\",\n",
    "                             \"2019-03-04 20:30:38\",\n",
    "                             \"2019-03-03 11:12:14\",\n",
    "                             \"2019-03-04 16:40:56\",\n",
    "                             \"2019-03-05 08:03:13\"]})\n",
    "df1"
   ]
  },
  {
   "cell_type": "code",
   "execution_count": 227,
   "metadata": {},
   "outputs": [
    {
     "data": {
      "text/html": [
       "<div>\n",
       "<style scoped>\n",
       "    .dataframe tbody tr th:only-of-type {\n",
       "        vertical-align: middle;\n",
       "    }\n",
       "\n",
       "    .dataframe tbody tr th {\n",
       "        vertical-align: top;\n",
       "    }\n",
       "\n",
       "    .dataframe thead th {\n",
       "        text-align: right;\n",
       "    }\n",
       "</style>\n",
       "<table border=\"1\" class=\"dataframe\">\n",
       "  <thead>\n",
       "    <tr style=\"text-align: right;\">\n",
       "      <th></th>\n",
       "      <th>id</th>\n",
       "      <th>name</th>\n",
       "      <th>age</th>\n",
       "      <th>sex</th>\n",
       "      <th>score</th>\n",
       "      <th>date</th>\n",
       "    </tr>\n",
       "  </thead>\n",
       "  <tbody>\n",
       "    <tr>\n",
       "      <th>0</th>\n",
       "      <td>1</td>\n",
       "      <td>张思山</td>\n",
       "      <td>16.0</td>\n",
       "      <td>女</td>\n",
       "      <td>59.0</td>\n",
       "      <td>2019-03-05 10:20:23</td>\n",
       "    </tr>\n",
       "    <tr>\n",
       "      <th>1</th>\n",
       "      <td>2</td>\n",
       "      <td>李锐锋</td>\n",
       "      <td>18.0</td>\n",
       "      <td>NaN</td>\n",
       "      <td>70.0</td>\n",
       "      <td>2019-03-04 20:30:38</td>\n",
       "    </tr>\n",
       "    <tr>\n",
       "      <th>2</th>\n",
       "      <td>3</td>\n",
       "      <td>王鸿达</td>\n",
       "      <td>NaN</td>\n",
       "      <td>女</td>\n",
       "      <td>40.0</td>\n",
       "      <td>2019-03-03 11:12:14</td>\n",
       "    </tr>\n",
       "    <tr>\n",
       "      <th>3</th>\n",
       "      <td>4</td>\n",
       "      <td>柯南</td>\n",
       "      <td>19.0</td>\n",
       "      <td>男</td>\n",
       "      <td>NaN</td>\n",
       "      <td>2019-03-04 16:40:56</td>\n",
       "    </tr>\n",
       "    <tr>\n",
       "      <th>4</th>\n",
       "      <td>5</td>\n",
       "      <td>琦玉</td>\n",
       "      <td>NaN</td>\n",
       "      <td>女</td>\n",
       "      <td>80.0</td>\n",
       "      <td>2019-03-05 08:03:13</td>\n",
       "    </tr>\n",
       "  </tbody>\n",
       "</table>\n",
       "</div>"
      ],
      "text/plain": [
       "   id name   age  sex  score                 date\n",
       "0   1  张思山  16.0    女   59.0  2019-03-05 10:20:23\n",
       "1   2  李锐锋  18.0  NaN   70.0  2019-03-04 20:30:38\n",
       "2   3  王鸿达   NaN    女   40.0  2019-03-03 11:12:14\n",
       "3   4   柯南  19.0    男    NaN  2019-03-04 16:40:56\n",
       "4   5   琦玉   NaN    女   80.0  2019-03-05 08:03:13"
      ]
     },
     "execution_count": 227,
     "metadata": {},
     "output_type": "execute_result"
    }
   ],
   "source": [
    "# 预处理把数据中的?替换为np.nan\n",
    "df1.replace(to_replace=\"?\", value=np.nan)"
   ]
  },
  {
   "cell_type": "code",
   "execution_count": 231,
   "metadata": {},
   "outputs": [
    {
     "data": {
      "text/html": [
       "<div>\n",
       "<style scoped>\n",
       "    .dataframe tbody tr th:only-of-type {\n",
       "        vertical-align: middle;\n",
       "    }\n",
       "\n",
       "    .dataframe tbody tr th {\n",
       "        vertical-align: top;\n",
       "    }\n",
       "\n",
       "    .dataframe thead th {\n",
       "        text-align: right;\n",
       "    }\n",
       "</style>\n",
       "<table border=\"1\" class=\"dataframe\">\n",
       "  <thead>\n",
       "    <tr style=\"text-align: right;\">\n",
       "      <th></th>\n",
       "      <th>id</th>\n",
       "      <th>name</th>\n",
       "      <th>age</th>\n",
       "      <th>sex</th>\n",
       "      <th>score</th>\n",
       "      <th>date</th>\n",
       "      <th>year</th>\n",
       "      <th>month</th>\n",
       "      <th>weekday</th>\n",
       "    </tr>\n",
       "  </thead>\n",
       "  <tbody>\n",
       "    <tr>\n",
       "      <th>0</th>\n",
       "      <td>1</td>\n",
       "      <td>张思山</td>\n",
       "      <td>16</td>\n",
       "      <td>女</td>\n",
       "      <td>59.0</td>\n",
       "      <td>2019-03-05 10:20:23</td>\n",
       "      <td>2019</td>\n",
       "      <td>3</td>\n",
       "      <td>1</td>\n",
       "    </tr>\n",
       "    <tr>\n",
       "      <th>1</th>\n",
       "      <td>2</td>\n",
       "      <td>李锐锋</td>\n",
       "      <td>18</td>\n",
       "      <td>?</td>\n",
       "      <td>70.0</td>\n",
       "      <td>2019-03-04 20:30:38</td>\n",
       "      <td>2019</td>\n",
       "      <td>3</td>\n",
       "      <td>0</td>\n",
       "    </tr>\n",
       "    <tr>\n",
       "      <th>2</th>\n",
       "      <td>3</td>\n",
       "      <td>王鸿达</td>\n",
       "      <td>NaN</td>\n",
       "      <td>女</td>\n",
       "      <td>40.0</td>\n",
       "      <td>2019-03-03 11:12:14</td>\n",
       "      <td>2019</td>\n",
       "      <td>3</td>\n",
       "      <td>6</td>\n",
       "    </tr>\n",
       "    <tr>\n",
       "      <th>3</th>\n",
       "      <td>4</td>\n",
       "      <td>柯南</td>\n",
       "      <td>19</td>\n",
       "      <td>男</td>\n",
       "      <td>NaN</td>\n",
       "      <td>2019-03-04 16:40:56</td>\n",
       "      <td>2019</td>\n",
       "      <td>3</td>\n",
       "      <td>0</td>\n",
       "    </tr>\n",
       "    <tr>\n",
       "      <th>4</th>\n",
       "      <td>5</td>\n",
       "      <td>琦玉</td>\n",
       "      <td>?</td>\n",
       "      <td>女</td>\n",
       "      <td>80.0</td>\n",
       "      <td>2019-03-05 08:03:13</td>\n",
       "      <td>2019</td>\n",
       "      <td>3</td>\n",
       "      <td>1</td>\n",
       "    </tr>\n",
       "  </tbody>\n",
       "</table>\n",
       "</div>"
      ],
      "text/plain": [
       "   id name  age sex  score                 date  year  month  weekday\n",
       "0   1  张思山   16   女   59.0  2019-03-05 10:20:23  2019      3        1\n",
       "1   2  李锐锋   18   ?   70.0  2019-03-04 20:30:38  2019      3        0\n",
       "2   3  王鸿达  NaN   女   40.0  2019-03-03 11:12:14  2019      3        6\n",
       "3   4   柯南   19   男    NaN  2019-03-04 16:40:56  2019      3        0\n",
       "4   5   琦玉    ?   女   80.0  2019-03-05 08:03:13  2019      3        1"
      ]
     },
     "execution_count": 231,
     "metadata": {},
     "output_type": "execute_result"
    }
   ],
   "source": [
    "# 将数据中的时间戳转换为可读日期(最小分度值为秒(s)的计量单位)\n",
    "# df1[\"date\"] = pd.to_datetime(df1[\"date\"], unit=\"s\")\n",
    "# 从日期中拆分新的列(年月周)\n",
    "df1[\"year\"] = pd.DatetimeIndex(df1[\"date\"]).year\n",
    "df1[\"month\"] = pd.DatetimeIndex(df1[\"date\"]).month\n",
    "df1[\"weekday\"] = pd.DatetimeIndex(df1[\"date\"]).weekday\n",
    "df1"
   ]
  },
  {
   "cell_type": "code",
   "execution_count": 242,
   "metadata": {},
   "outputs": [],
   "source": [
    "# 合并数据表\n",
    "df2 = pd.DataFrame({\"user_id\":range(1,6),\n",
    "                      \"name\":['张思山','李锐锋','王鸿达','柯南','琦玉'],\n",
    "                      \"age\":[16,18,17,19,18]})\n",
    "df3 = pd.DataFrame({\"goods_id\":['G01','G20','G31'],\n",
    "                      \"goods_name\":['手机','WIFI','床']})\n",
    "df4 = pd.DataFrame({\"order_id\":['bh0481','bh0421','bh0490'],\n",
    "                    \"user_id\":[1,3,4],\n",
    "                    \"goods_name\":['手机','手机','床']})"
   ]
  },
  {
   "cell_type": "code",
   "execution_count": 243,
   "metadata": {},
   "outputs": [
    {
     "name": "stdout",
     "output_type": "stream",
     "text": [
      "   user_id name  age\n",
      "0        1  张思山   16\n",
      "1        2  李锐锋   18\n",
      "2        3  王鸿达   17\n",
      "3        4   柯南   19\n",
      "4        5   琦玉   18\n",
      "  goods_id goods_name\n",
      "0      G01         手机\n",
      "1      G20       WIFI\n",
      "2      G31          床\n",
      "  order_id  user_id goods_name\n",
      "0   bh0481        1         手机\n",
      "1   bh0421        3         手机\n",
      "2   bh0490        4          床\n"
     ]
    }
   ],
   "source": [
    "print(df2)\n",
    "print(df3)\n",
    "print(df4)"
   ]
  },
  {
   "cell_type": "code",
   "execution_count": 244,
   "metadata": {},
   "outputs": [
    {
     "data": {
      "text/html": [
       "<div>\n",
       "<style scoped>\n",
       "    .dataframe tbody tr th:only-of-type {\n",
       "        vertical-align: middle;\n",
       "    }\n",
       "\n",
       "    .dataframe tbody tr th {\n",
       "        vertical-align: top;\n",
       "    }\n",
       "\n",
       "    .dataframe thead th {\n",
       "        text-align: right;\n",
       "    }\n",
       "</style>\n",
       "<table border=\"1\" class=\"dataframe\">\n",
       "  <thead>\n",
       "    <tr style=\"text-align: right;\">\n",
       "      <th></th>\n",
       "      <th>user_id</th>\n",
       "      <th>name</th>\n",
       "      <th>age</th>\n",
       "      <th>order_id</th>\n",
       "      <th>goods_name</th>\n",
       "    </tr>\n",
       "  </thead>\n",
       "  <tbody>\n",
       "    <tr>\n",
       "      <th>0</th>\n",
       "      <td>1</td>\n",
       "      <td>张思山</td>\n",
       "      <td>16</td>\n",
       "      <td>bh0481</td>\n",
       "      <td>手机</td>\n",
       "    </tr>\n",
       "    <tr>\n",
       "      <th>1</th>\n",
       "      <td>2</td>\n",
       "      <td>李锐锋</td>\n",
       "      <td>18</td>\n",
       "      <td>NaN</td>\n",
       "      <td>NaN</td>\n",
       "    </tr>\n",
       "    <tr>\n",
       "      <th>2</th>\n",
       "      <td>3</td>\n",
       "      <td>王鸿达</td>\n",
       "      <td>17</td>\n",
       "      <td>bh0421</td>\n",
       "      <td>手机</td>\n",
       "    </tr>\n",
       "    <tr>\n",
       "      <th>3</th>\n",
       "      <td>4</td>\n",
       "      <td>柯南</td>\n",
       "      <td>19</td>\n",
       "      <td>bh0490</td>\n",
       "      <td>床</td>\n",
       "    </tr>\n",
       "    <tr>\n",
       "      <th>4</th>\n",
       "      <td>5</td>\n",
       "      <td>琦玉</td>\n",
       "      <td>18</td>\n",
       "      <td>NaN</td>\n",
       "      <td>NaN</td>\n",
       "    </tr>\n",
       "  </tbody>\n",
       "</table>\n",
       "</div>"
      ],
      "text/plain": [
       "   user_id name  age order_id goods_name\n",
       "0        1  张思山   16   bh0481         手机\n",
       "1        2  李锐锋   18      NaN        NaN\n",
       "2        3  王鸿达   17   bh0421         手机\n",
       "3        4   柯南   19   bh0490          床\n",
       "4        5   琦玉   18      NaN        NaN"
      ]
     },
     "execution_count": 244,
     "metadata": {},
     "output_type": "execute_result"
    }
   ],
   "source": [
    "# 合并字段user_id,以df2为主导合并df4生成df2_4\n",
    "df2_4 = pd.merge(df2, df4, how=\"left\", on=['user_id', 'user_id'])\n",
    "df2_4"
   ]
  },
  {
   "cell_type": "code",
   "execution_count": 245,
   "metadata": {},
   "outputs": [
    {
     "data": {
      "text/html": [
       "<div>\n",
       "<style scoped>\n",
       "    .dataframe tbody tr th:only-of-type {\n",
       "        vertical-align: middle;\n",
       "    }\n",
       "\n",
       "    .dataframe tbody tr th {\n",
       "        vertical-align: top;\n",
       "    }\n",
       "\n",
       "    .dataframe thead th {\n",
       "        text-align: right;\n",
       "    }\n",
       "</style>\n",
       "<table border=\"1\" class=\"dataframe\">\n",
       "  <thead>\n",
       "    <tr style=\"text-align: right;\">\n",
       "      <th></th>\n",
       "      <th>user_id</th>\n",
       "      <th>name</th>\n",
       "      <th>age</th>\n",
       "      <th>order_id</th>\n",
       "      <th>goods_name</th>\n",
       "      <th>goods_id</th>\n",
       "    </tr>\n",
       "  </thead>\n",
       "  <tbody>\n",
       "    <tr>\n",
       "      <th>0</th>\n",
       "      <td>1</td>\n",
       "      <td>张思山</td>\n",
       "      <td>16</td>\n",
       "      <td>bh0481</td>\n",
       "      <td>手机</td>\n",
       "      <td>G01</td>\n",
       "    </tr>\n",
       "    <tr>\n",
       "      <th>1</th>\n",
       "      <td>2</td>\n",
       "      <td>李锐锋</td>\n",
       "      <td>18</td>\n",
       "      <td>NaN</td>\n",
       "      <td>NaN</td>\n",
       "      <td>NaN</td>\n",
       "    </tr>\n",
       "    <tr>\n",
       "      <th>2</th>\n",
       "      <td>3</td>\n",
       "      <td>王鸿达</td>\n",
       "      <td>17</td>\n",
       "      <td>bh0421</td>\n",
       "      <td>手机</td>\n",
       "      <td>G01</td>\n",
       "    </tr>\n",
       "    <tr>\n",
       "      <th>3</th>\n",
       "      <td>4</td>\n",
       "      <td>柯南</td>\n",
       "      <td>19</td>\n",
       "      <td>bh0490</td>\n",
       "      <td>床</td>\n",
       "      <td>G31</td>\n",
       "    </tr>\n",
       "    <tr>\n",
       "      <th>4</th>\n",
       "      <td>5</td>\n",
       "      <td>琦玉</td>\n",
       "      <td>18</td>\n",
       "      <td>NaN</td>\n",
       "      <td>NaN</td>\n",
       "      <td>NaN</td>\n",
       "    </tr>\n",
       "  </tbody>\n",
       "</table>\n",
       "</div>"
      ],
      "text/plain": [
       "   user_id name  age order_id goods_name goods_id\n",
       "0        1  张思山   16   bh0481         手机      G01\n",
       "1        2  李锐锋   18      NaN        NaN      NaN\n",
       "2        3  王鸿达   17   bh0421         手机      G01\n",
       "3        4   柯南   19   bh0490          床      G31\n",
       "4        5   琦玉   18      NaN        NaN      NaN"
      ]
     },
     "execution_count": 245,
     "metadata": {},
     "output_type": "execute_result"
    }
   ],
   "source": [
    "# 合并字段goods_name,以df2_4为主导合并df3生成df2_4_3\n",
    "df2_4_3 = pd.merge(df2_4, df3, how=\"left\", on=['goods_name', 'goods_name'])\n",
    "df2_4_3"
   ]
  },
  {
   "cell_type": "code",
   "execution_count": 249,
   "metadata": {},
   "outputs": [
    {
     "data": {
      "text/html": [
       "<div>\n",
       "<style scoped>\n",
       "    .dataframe tbody tr th:only-of-type {\n",
       "        vertical-align: middle;\n",
       "    }\n",
       "\n",
       "    .dataframe tbody tr th {\n",
       "        vertical-align: top;\n",
       "    }\n",
       "\n",
       "    .dataframe thead th {\n",
       "        text-align: right;\n",
       "    }\n",
       "</style>\n",
       "<table border=\"1\" class=\"dataframe\">\n",
       "  <thead>\n",
       "    <tr style=\"text-align: right;\">\n",
       "      <th>goods_name</th>\n",
       "      <th>床</th>\n",
       "      <th>手机</th>\n",
       "    </tr>\n",
       "    <tr>\n",
       "      <th>age</th>\n",
       "      <th></th>\n",
       "      <th></th>\n",
       "    </tr>\n",
       "  </thead>\n",
       "  <tbody>\n",
       "    <tr>\n",
       "      <th>16</th>\n",
       "      <td>0</td>\n",
       "      <td>1</td>\n",
       "    </tr>\n",
       "    <tr>\n",
       "      <th>17</th>\n",
       "      <td>0</td>\n",
       "      <td>1</td>\n",
       "    </tr>\n",
       "    <tr>\n",
       "      <th>19</th>\n",
       "      <td>1</td>\n",
       "      <td>0</td>\n",
       "    </tr>\n",
       "  </tbody>\n",
       "</table>\n",
       "</div>"
      ],
      "text/plain": [
       "goods_name  床  手机\n",
       "age              \n",
       "16          0   1\n",
       "17          0   1\n",
       "19          1   0"
      ]
     },
     "execution_count": 249,
     "metadata": {},
     "output_type": "execute_result"
    }
   ],
   "source": [
    "# 建立交叉表(用于计算分组的频率)\n",
    "# 交叉表,表示用户年龄和商品名间的关系\n",
    "user_goods = pd.crosstab(df2_4_3['age'], df2_4_3['goods_name'])\n",
    "user_goods"
   ]
  },
  {
   "cell_type": "code",
   "execution_count": 316,
   "metadata": {},
   "outputs": [
    {
     "name": "stdout",
     "output_type": "stream",
     "text": [
      "   id name   age  sex  score country province\n",
      "0   1  张思山  16.0    女   69.0      CN       GZ\n",
      "1   2  陈梓涵   NaN    男   59.0      US       U1\n",
      "2   3  李锐锋  17.0    男   70.0      US       U2\n",
      "3   4  张昆纬  18.0  NaN   40.0      JP       J1\n",
      "4   5  王鸿达   NaN    女    NaN      CN       BJ\n",
      "5   6   柯南  19.0    男   66.0      JP       J2\n",
      "6   7   琦玉  17.0    男    NaN      US       U1\n",
      "7   8  张诗兰   NaN  NaN   80.0      CN       SZ\n",
      "8   9  王梦竹  18.0    女   95.0      CN       GZ\n"
     ]
    },
    {
     "data": {
      "text/html": [
       "<div>\n",
       "<style scoped>\n",
       "    .dataframe tbody tr th:only-of-type {\n",
       "        vertical-align: middle;\n",
       "    }\n",
       "\n",
       "    .dataframe tbody tr th {\n",
       "        vertical-align: top;\n",
       "    }\n",
       "\n",
       "    .dataframe thead th {\n",
       "        text-align: right;\n",
       "    }\n",
       "</style>\n",
       "<table border=\"1\" class=\"dataframe\">\n",
       "  <thead>\n",
       "    <tr style=\"text-align: right;\">\n",
       "      <th></th>\n",
       "      <th>id</th>\n",
       "      <th>name</th>\n",
       "      <th>age</th>\n",
       "      <th>sex</th>\n",
       "      <th>score</th>\n",
       "      <th>province</th>\n",
       "    </tr>\n",
       "    <tr>\n",
       "      <th>country</th>\n",
       "      <th></th>\n",
       "      <th></th>\n",
       "      <th></th>\n",
       "      <th></th>\n",
       "      <th></th>\n",
       "      <th></th>\n",
       "    </tr>\n",
       "  </thead>\n",
       "  <tbody>\n",
       "    <tr>\n",
       "      <th>CN</th>\n",
       "      <td>4</td>\n",
       "      <td>4</td>\n",
       "      <td>2</td>\n",
       "      <td>3</td>\n",
       "      <td>3</td>\n",
       "      <td>4</td>\n",
       "    </tr>\n",
       "    <tr>\n",
       "      <th>JP</th>\n",
       "      <td>2</td>\n",
       "      <td>2</td>\n",
       "      <td>2</td>\n",
       "      <td>1</td>\n",
       "      <td>2</td>\n",
       "      <td>2</td>\n",
       "    </tr>\n",
       "    <tr>\n",
       "      <th>US</th>\n",
       "      <td>3</td>\n",
       "      <td>3</td>\n",
       "      <td>2</td>\n",
       "      <td>3</td>\n",
       "      <td>2</td>\n",
       "      <td>3</td>\n",
       "    </tr>\n",
       "  </tbody>\n",
       "</table>\n",
       "</div>"
      ],
      "text/plain": [
       "         id  name  age  sex  score  province\n",
       "country                                     \n",
       "CN        4     4    2    3      3         4\n",
       "JP        2     2    2    1      2         2\n",
       "US        3     3    2    3      2         3"
      ]
     },
     "execution_count": 316,
     "metadata": {},
     "output_type": "execute_result"
    }
   ],
   "source": [
    "cpdf = pd.DataFrame({\"id\":range(1,10),\n",
    "                      \"name\":['张思山','陈梓涵','李锐锋','张昆纬','王鸿达','柯南','琦玉','张诗兰','王梦竹'],\n",
    "                      \"age\":[16,np.nan,17,18,np.nan,19,17,np.nan,18],\n",
    "                      \"sex\":['女','男','男',np.nan,'女','男','男',np.nan,'女'],\n",
    "                      \"score\":[69,59,70,40,np.nan,66,np.nan,80,95],\n",
    "                      \"country\":['CN','US','US','JP','CN','JP','US','CN','CN'],\n",
    "                      \"province\":['GZ','U1','U2','J1','BJ','J2','U1','SZ','GZ']})\n",
    "print(cpdf)\n",
    "# 统计每个年龄学生的数量\n",
    "cpdf.groupby(['country']).count()"
   ]
  },
  {
   "cell_type": "code",
   "execution_count": 317,
   "metadata": {},
   "outputs": [
    {
     "data": {
      "text/html": [
       "<div>\n",
       "<style scoped>\n",
       "    .dataframe tbody tr th:only-of-type {\n",
       "        vertical-align: middle;\n",
       "    }\n",
       "\n",
       "    .dataframe tbody tr th {\n",
       "        vertical-align: top;\n",
       "    }\n",
       "\n",
       "    .dataframe thead th {\n",
       "        text-align: right;\n",
       "    }\n",
       "</style>\n",
       "<table border=\"1\" class=\"dataframe\">\n",
       "  <thead>\n",
       "    <tr style=\"text-align: right;\">\n",
       "      <th></th>\n",
       "      <th></th>\n",
       "      <th>id</th>\n",
       "      <th>name</th>\n",
       "      <th>age</th>\n",
       "      <th>sex</th>\n",
       "      <th>score</th>\n",
       "    </tr>\n",
       "    <tr>\n",
       "      <th>country</th>\n",
       "      <th>province</th>\n",
       "      <th></th>\n",
       "      <th></th>\n",
       "      <th></th>\n",
       "      <th></th>\n",
       "      <th></th>\n",
       "    </tr>\n",
       "  </thead>\n",
       "  <tbody>\n",
       "    <tr>\n",
       "      <th rowspan=\"3\" valign=\"top\">CN</th>\n",
       "      <th>BJ</th>\n",
       "      <td>1</td>\n",
       "      <td>1</td>\n",
       "      <td>0</td>\n",
       "      <td>1</td>\n",
       "      <td>0</td>\n",
       "    </tr>\n",
       "    <tr>\n",
       "      <th>GZ</th>\n",
       "      <td>2</td>\n",
       "      <td>2</td>\n",
       "      <td>2</td>\n",
       "      <td>2</td>\n",
       "      <td>2</td>\n",
       "    </tr>\n",
       "    <tr>\n",
       "      <th>SZ</th>\n",
       "      <td>1</td>\n",
       "      <td>1</td>\n",
       "      <td>0</td>\n",
       "      <td>0</td>\n",
       "      <td>1</td>\n",
       "    </tr>\n",
       "    <tr>\n",
       "      <th rowspan=\"2\" valign=\"top\">JP</th>\n",
       "      <th>J1</th>\n",
       "      <td>1</td>\n",
       "      <td>1</td>\n",
       "      <td>1</td>\n",
       "      <td>0</td>\n",
       "      <td>1</td>\n",
       "    </tr>\n",
       "    <tr>\n",
       "      <th>J2</th>\n",
       "      <td>1</td>\n",
       "      <td>1</td>\n",
       "      <td>1</td>\n",
       "      <td>1</td>\n",
       "      <td>1</td>\n",
       "    </tr>\n",
       "    <tr>\n",
       "      <th rowspan=\"2\" valign=\"top\">US</th>\n",
       "      <th>U1</th>\n",
       "      <td>2</td>\n",
       "      <td>2</td>\n",
       "      <td>1</td>\n",
       "      <td>2</td>\n",
       "      <td>1</td>\n",
       "    </tr>\n",
       "    <tr>\n",
       "      <th>U2</th>\n",
       "      <td>1</td>\n",
       "      <td>1</td>\n",
       "      <td>1</td>\n",
       "      <td>1</td>\n",
       "      <td>1</td>\n",
       "    </tr>\n",
       "  </tbody>\n",
       "</table>\n",
       "</div>"
      ],
      "text/plain": [
       "                  id  name  age  sex  score\n",
       "country province                           \n",
       "CN      BJ         1     1    0    1      0\n",
       "        GZ         2     2    2    2      2\n",
       "        SZ         1     1    0    0      1\n",
       "JP      J1         1     1    1    0      1\n",
       "        J2         1     1    1    1      1\n",
       "US      U1         2     2    1    2      1\n",
       "        U2         1     1    1    1      1"
      ]
     },
     "execution_count": 317,
     "metadata": {},
     "output_type": "execute_result"
    }
   ],
   "source": [
    "# 统计每个年龄学生男女的数量\n",
    "cpdf.groupby(['country', 'province']).count()"
   ]
  },
  {
   "cell_type": "code",
   "execution_count": 339,
   "metadata": {},
   "outputs": [
    {
     "name": "stdout",
     "output_type": "stream",
     "text": [
      "  country  score\n",
      "0      CN  244.0\n",
      "1      JP  106.0\n",
      "2      US  129.0\n"
     ]
    },
    {
     "data": {
      "text/html": [
       "<div>\n",
       "<style scoped>\n",
       "    .dataframe tbody tr th:only-of-type {\n",
       "        vertical-align: middle;\n",
       "    }\n",
       "\n",
       "    .dataframe tbody tr th {\n",
       "        vertical-align: top;\n",
       "    }\n",
       "\n",
       "    .dataframe thead th {\n",
       "        text-align: right;\n",
       "    }\n",
       "</style>\n",
       "<table border=\"1\" class=\"dataframe\">\n",
       "  <thead>\n",
       "    <tr style=\"text-align: right;\">\n",
       "      <th></th>\n",
       "      <th>country</th>\n",
       "      <th>id</th>\n",
       "      <th>name</th>\n",
       "      <th>age</th>\n",
       "      <th>sex</th>\n",
       "      <th>score</th>\n",
       "      <th>province</th>\n",
       "    </tr>\n",
       "  </thead>\n",
       "  <tbody>\n",
       "    <tr>\n",
       "      <th>0</th>\n",
       "      <td>CN</td>\n",
       "      <td>4</td>\n",
       "      <td>4</td>\n",
       "      <td>2</td>\n",
       "      <td>3</td>\n",
       "      <td>3</td>\n",
       "      <td>4</td>\n",
       "    </tr>\n",
       "    <tr>\n",
       "      <th>1</th>\n",
       "      <td>JP</td>\n",
       "      <td>2</td>\n",
       "      <td>2</td>\n",
       "      <td>2</td>\n",
       "      <td>1</td>\n",
       "      <td>2</td>\n",
       "      <td>2</td>\n",
       "    </tr>\n",
       "    <tr>\n",
       "      <th>2</th>\n",
       "      <td>US</td>\n",
       "      <td>3</td>\n",
       "      <td>3</td>\n",
       "      <td>2</td>\n",
       "      <td>3</td>\n",
       "      <td>2</td>\n",
       "      <td>3</td>\n",
       "    </tr>\n",
       "  </tbody>\n",
       "</table>\n",
       "</div>"
      ],
      "text/plain": [
       "  country  id  name  age  sex  score  province\n",
       "0      CN   4     4    2    3      3         4\n",
       "1      JP   2     2    2    1      2         2\n",
       "2      US   3     3    2    3      2         3"
      ]
     },
     "execution_count": 339,
     "metadata": {},
     "output_type": "execute_result"
    }
   ],
   "source": [
    "# 按照国家对数据集进行分类聚合并重建索引(将country变为普通列)\n",
    "print(cpdf.groupby(['country']).sum().reset_index()[['country', 'score']])\n",
    "cpadf = cpdf.groupby(['country']).count().reset_index()\n",
    "cpadf"
   ]
  },
  {
   "cell_type": "code",
   "execution_count": 319,
   "metadata": {},
   "outputs": [
    {
     "data": {
      "text/html": [
       "<div>\n",
       "<style scoped>\n",
       "    .dataframe tbody tr th:only-of-type {\n",
       "        vertical-align: middle;\n",
       "    }\n",
       "\n",
       "    .dataframe tbody tr th {\n",
       "        vertical-align: top;\n",
       "    }\n",
       "\n",
       "    .dataframe thead th {\n",
       "        text-align: right;\n",
       "    }\n",
       "</style>\n",
       "<table border=\"1\" class=\"dataframe\">\n",
       "  <thead>\n",
       "    <tr style=\"text-align: right;\">\n",
       "      <th></th>\n",
       "      <th>country</th>\n",
       "      <th>score</th>\n",
       "    </tr>\n",
       "  </thead>\n",
       "  <tbody>\n",
       "    <tr>\n",
       "      <th>0</th>\n",
       "      <td>CN</td>\n",
       "      <td>244.0</td>\n",
       "    </tr>\n",
       "    <tr>\n",
       "      <th>2</th>\n",
       "      <td>US</td>\n",
       "      <td>129.0</td>\n",
       "    </tr>\n",
       "    <tr>\n",
       "      <th>1</th>\n",
       "      <td>JP</td>\n",
       "      <td>106.0</td>\n",
       "    </tr>\n",
       "  </tbody>\n",
       "</table>\n",
       "</div>"
      ],
      "text/plain": [
       "  country  score\n",
       "0      CN  244.0\n",
       "2      US  129.0\n",
       "1      JP  106.0"
      ]
     },
     "execution_count": 319,
     "metadata": {},
     "output_type": "execute_result"
    }
   ],
   "source": [
    "# \n",
    "cpdf.sort_values('', ascending=False)"
   ]
  },
  {
   "cell_type": "code",
   "execution_count": null,
   "metadata": {},
   "outputs": [],
   "source": []
  },
  {
   "cell_type": "code",
   "execution_count": null,
   "metadata": {},
   "outputs": [],
   "source": []
  },
  {
   "cell_type": "code",
   "execution_count": null,
   "metadata": {},
   "outputs": [],
   "source": []
  },
  {
   "cell_type": "code",
   "execution_count": null,
   "metadata": {},
   "outputs": [],
   "source": []
  },
  {
   "cell_type": "code",
   "execution_count": null,
   "metadata": {},
   "outputs": [],
   "source": []
  }
 ],
 "metadata": {
  "kernelspec": {
   "display_name": "Python 3",
   "language": "python",
   "name": "python3"
  },
  "language_info": {
   "codemirror_mode": {
    "name": "ipython",
    "version": 3
   },
   "file_extension": ".py",
   "mimetype": "text/x-python",
   "name": "python",
   "nbconvert_exporter": "python",
   "pygments_lexer": "ipython3",
   "version": "3.6.5"
  }
 },
 "nbformat": 4,
 "nbformat_minor": 2
}
